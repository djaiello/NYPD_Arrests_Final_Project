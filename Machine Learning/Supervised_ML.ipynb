{
  "cells": [
    {
      "cell_type": "code",
      "execution_count": 1,
      "metadata": {
        "id": "db835Rb7vmpD",
        "colab": {
          "base_uri": "https://localhost:8080/"
        },
        "outputId": "5184f2b5-1f8f-45de-e5fc-cce605794479"
      },
      "outputs": [
        {
          "output_type": "stream",
          "name": "stdout",
          "text": [
            "Drive already mounted at /content/gdrive; to attempt to forcibly remount, call drive.mount(\"/content/gdrive\", force_remount=True).\n"
          ]
        }
      ],
      "source": [
        "import pandas as pd\n",
        "from pathlib import Path\n",
        "import matplotlib.pyplot as plt\n",
        "from sklearn.linear_model import LinearRegression\n",
        "from sklearn. datasets import load_digits\n",
        "digits = load_digits()\n",
        "from google.colab import files\n",
        "from google.colab import drive\n",
        "\n",
        "# Mount the Google Drive\n",
        "drive.mount('/content/gdrive')"
      ]
    },
    {
      "cell_type": "code",
      "source": [
        "# Full dataset (~4 min.)\n",
        "arrest_df = pd.read_csv(\"gdrive/My Drive/Colab Notebooks/arrest_10yr_clean.csv\")\n",
        "\n",
        "print(arrest_df.shape)\n",
        "arrest_df.head()"
      ],
      "metadata": {
        "colab": {
          "base_uri": "https://localhost:8080/",
          "height": 462
        },
        "id": "Qnylc36-w5id",
        "outputId": "fa314b0b-36dc-4517-c269-be1b9229ab6b"
      },
      "execution_count": 2,
      "outputs": [
        {
          "output_type": "stream",
          "name": "stdout",
          "text": [
            "(2855141, 16)\n"
          ]
        },
        {
          "output_type": "execute_result",
          "data": {
            "text/plain": [
              "   ARREST_KEY ARREST_DATE  PD_CD  KY_CD    LAW_CODE LAW_CAT_CD ARREST_BORO  \\\n",
              "0    82422385  2012-01-01  759.0  359.0  PL 1950500          M           K   \n",
              "1    82422694  2012-01-01  101.0  344.0  PL 1200001          M           M   \n",
              "2    82422331  2012-01-01  905.0  347.0  VTL11920U2          M           K   \n",
              "3    82422817  2012-01-01  782.0  236.0  PL 2650101          M           Q   \n",
              "4    82422890  2012-01-01  258.0  351.0  PL 1456002          M           Q   \n",
              "\n",
              "   ARREST_PRECINCT AGE_GROUP PERP_SEX       PERP_RACE  X_COORD_CD  Y_COORD_CD  \\\n",
              "0               79     18-24        M           BLACK    997366.0    192877.0   \n",
              "1                6     18-24        M           WHITE    983794.0    204737.0   \n",
              "2               72     25-44        M  WHITE HISPANIC    989519.0    178298.0   \n",
              "3              115     25-44        M  BLACK HISPANIC   1017897.0    219850.0   \n",
              "4              104     18-24        M           WHITE   1012109.0    195368.0   \n",
              "\n",
              "    Latitude  Longitude                                       Lon_Lat  \n",
              "0  40.696078 -73.952702  POINT (-73.95270199199997 40.69607807800003)  \n",
              "1  40.728641 -74.001647  POINT (-74.00164669699996 40.72864066600005)  \n",
              "2  40.656070 -73.981012      POINT (-73.981011557 40.656070154000076)  \n",
              "3  40.770058 -73.878527  POINT (-73.87852744499997 40.77005803100008)  \n",
              "4  40.702881 -73.899525  POINT (-73.89952491499997 40.70288116000006)  "
            ],
            "text/html": [
              "\n",
              "  <div id=\"df-60ca5712-3036-40d9-8056-70b450583607\">\n",
              "    <div class=\"colab-df-container\">\n",
              "      <div>\n",
              "<style scoped>\n",
              "    .dataframe tbody tr th:only-of-type {\n",
              "        vertical-align: middle;\n",
              "    }\n",
              "\n",
              "    .dataframe tbody tr th {\n",
              "        vertical-align: top;\n",
              "    }\n",
              "\n",
              "    .dataframe thead th {\n",
              "        text-align: right;\n",
              "    }\n",
              "</style>\n",
              "<table border=\"1\" class=\"dataframe\">\n",
              "  <thead>\n",
              "    <tr style=\"text-align: right;\">\n",
              "      <th></th>\n",
              "      <th>ARREST_KEY</th>\n",
              "      <th>ARREST_DATE</th>\n",
              "      <th>PD_CD</th>\n",
              "      <th>KY_CD</th>\n",
              "      <th>LAW_CODE</th>\n",
              "      <th>LAW_CAT_CD</th>\n",
              "      <th>ARREST_BORO</th>\n",
              "      <th>ARREST_PRECINCT</th>\n",
              "      <th>AGE_GROUP</th>\n",
              "      <th>PERP_SEX</th>\n",
              "      <th>PERP_RACE</th>\n",
              "      <th>X_COORD_CD</th>\n",
              "      <th>Y_COORD_CD</th>\n",
              "      <th>Latitude</th>\n",
              "      <th>Longitude</th>\n",
              "      <th>Lon_Lat</th>\n",
              "    </tr>\n",
              "  </thead>\n",
              "  <tbody>\n",
              "    <tr>\n",
              "      <th>0</th>\n",
              "      <td>82422385</td>\n",
              "      <td>2012-01-01</td>\n",
              "      <td>759.0</td>\n",
              "      <td>359.0</td>\n",
              "      <td>PL 1950500</td>\n",
              "      <td>M</td>\n",
              "      <td>K</td>\n",
              "      <td>79</td>\n",
              "      <td>18-24</td>\n",
              "      <td>M</td>\n",
              "      <td>BLACK</td>\n",
              "      <td>997366.0</td>\n",
              "      <td>192877.0</td>\n",
              "      <td>40.696078</td>\n",
              "      <td>-73.952702</td>\n",
              "      <td>POINT (-73.95270199199997 40.69607807800003)</td>\n",
              "    </tr>\n",
              "    <tr>\n",
              "      <th>1</th>\n",
              "      <td>82422694</td>\n",
              "      <td>2012-01-01</td>\n",
              "      <td>101.0</td>\n",
              "      <td>344.0</td>\n",
              "      <td>PL 1200001</td>\n",
              "      <td>M</td>\n",
              "      <td>M</td>\n",
              "      <td>6</td>\n",
              "      <td>18-24</td>\n",
              "      <td>M</td>\n",
              "      <td>WHITE</td>\n",
              "      <td>983794.0</td>\n",
              "      <td>204737.0</td>\n",
              "      <td>40.728641</td>\n",
              "      <td>-74.001647</td>\n",
              "      <td>POINT (-74.00164669699996 40.72864066600005)</td>\n",
              "    </tr>\n",
              "    <tr>\n",
              "      <th>2</th>\n",
              "      <td>82422331</td>\n",
              "      <td>2012-01-01</td>\n",
              "      <td>905.0</td>\n",
              "      <td>347.0</td>\n",
              "      <td>VTL11920U2</td>\n",
              "      <td>M</td>\n",
              "      <td>K</td>\n",
              "      <td>72</td>\n",
              "      <td>25-44</td>\n",
              "      <td>M</td>\n",
              "      <td>WHITE HISPANIC</td>\n",
              "      <td>989519.0</td>\n",
              "      <td>178298.0</td>\n",
              "      <td>40.656070</td>\n",
              "      <td>-73.981012</td>\n",
              "      <td>POINT (-73.981011557 40.656070154000076)</td>\n",
              "    </tr>\n",
              "    <tr>\n",
              "      <th>3</th>\n",
              "      <td>82422817</td>\n",
              "      <td>2012-01-01</td>\n",
              "      <td>782.0</td>\n",
              "      <td>236.0</td>\n",
              "      <td>PL 2650101</td>\n",
              "      <td>M</td>\n",
              "      <td>Q</td>\n",
              "      <td>115</td>\n",
              "      <td>25-44</td>\n",
              "      <td>M</td>\n",
              "      <td>BLACK HISPANIC</td>\n",
              "      <td>1017897.0</td>\n",
              "      <td>219850.0</td>\n",
              "      <td>40.770058</td>\n",
              "      <td>-73.878527</td>\n",
              "      <td>POINT (-73.87852744499997 40.77005803100008)</td>\n",
              "    </tr>\n",
              "    <tr>\n",
              "      <th>4</th>\n",
              "      <td>82422890</td>\n",
              "      <td>2012-01-01</td>\n",
              "      <td>258.0</td>\n",
              "      <td>351.0</td>\n",
              "      <td>PL 1456002</td>\n",
              "      <td>M</td>\n",
              "      <td>Q</td>\n",
              "      <td>104</td>\n",
              "      <td>18-24</td>\n",
              "      <td>M</td>\n",
              "      <td>WHITE</td>\n",
              "      <td>1012109.0</td>\n",
              "      <td>195368.0</td>\n",
              "      <td>40.702881</td>\n",
              "      <td>-73.899525</td>\n",
              "      <td>POINT (-73.89952491499997 40.70288116000006)</td>\n",
              "    </tr>\n",
              "  </tbody>\n",
              "</table>\n",
              "</div>\n",
              "      <button class=\"colab-df-convert\" onclick=\"convertToInteractive('df-60ca5712-3036-40d9-8056-70b450583607')\"\n",
              "              title=\"Convert this dataframe to an interactive table.\"\n",
              "              style=\"display:none;\">\n",
              "        \n",
              "  <svg xmlns=\"http://www.w3.org/2000/svg\" height=\"24px\"viewBox=\"0 0 24 24\"\n",
              "       width=\"24px\">\n",
              "    <path d=\"M0 0h24v24H0V0z\" fill=\"none\"/>\n",
              "    <path d=\"M18.56 5.44l.94 2.06.94-2.06 2.06-.94-2.06-.94-.94-2.06-.94 2.06-2.06.94zm-11 1L8.5 8.5l.94-2.06 2.06-.94-2.06-.94L8.5 2.5l-.94 2.06-2.06.94zm10 10l.94 2.06.94-2.06 2.06-.94-2.06-.94-.94-2.06-.94 2.06-2.06.94z\"/><path d=\"M17.41 7.96l-1.37-1.37c-.4-.4-.92-.59-1.43-.59-.52 0-1.04.2-1.43.59L10.3 9.45l-7.72 7.72c-.78.78-.78 2.05 0 2.83L4 21.41c.39.39.9.59 1.41.59.51 0 1.02-.2 1.41-.59l7.78-7.78 2.81-2.81c.8-.78.8-2.07 0-2.86zM5.41 20L4 18.59l7.72-7.72 1.47 1.35L5.41 20z\"/>\n",
              "  </svg>\n",
              "      </button>\n",
              "      \n",
              "  <style>\n",
              "    .colab-df-container {\n",
              "      display:flex;\n",
              "      flex-wrap:wrap;\n",
              "      gap: 12px;\n",
              "    }\n",
              "\n",
              "    .colab-df-convert {\n",
              "      background-color: #E8F0FE;\n",
              "      border: none;\n",
              "      border-radius: 50%;\n",
              "      cursor: pointer;\n",
              "      display: none;\n",
              "      fill: #1967D2;\n",
              "      height: 32px;\n",
              "      padding: 0 0 0 0;\n",
              "      width: 32px;\n",
              "    }\n",
              "\n",
              "    .colab-df-convert:hover {\n",
              "      background-color: #E2EBFA;\n",
              "      box-shadow: 0px 1px 2px rgba(60, 64, 67, 0.3), 0px 1px 3px 1px rgba(60, 64, 67, 0.15);\n",
              "      fill: #174EA6;\n",
              "    }\n",
              "\n",
              "    [theme=dark] .colab-df-convert {\n",
              "      background-color: #3B4455;\n",
              "      fill: #D2E3FC;\n",
              "    }\n",
              "\n",
              "    [theme=dark] .colab-df-convert:hover {\n",
              "      background-color: #434B5C;\n",
              "      box-shadow: 0px 1px 3px 1px rgba(0, 0, 0, 0.15);\n",
              "      filter: drop-shadow(0px 1px 2px rgba(0, 0, 0, 0.3));\n",
              "      fill: #FFFFFF;\n",
              "    }\n",
              "  </style>\n",
              "\n",
              "      <script>\n",
              "        const buttonEl =\n",
              "          document.querySelector('#df-60ca5712-3036-40d9-8056-70b450583607 button.colab-df-convert');\n",
              "        buttonEl.style.display =\n",
              "          google.colab.kernel.accessAllowed ? 'block' : 'none';\n",
              "\n",
              "        async function convertToInteractive(key) {\n",
              "          const element = document.querySelector('#df-60ca5712-3036-40d9-8056-70b450583607');\n",
              "          const dataTable =\n",
              "            await google.colab.kernel.invokeFunction('convertToInteractive',\n",
              "                                                     [key], {});\n",
              "          if (!dataTable) return;\n",
              "\n",
              "          const docLinkHtml = 'Like what you see? Visit the ' +\n",
              "            '<a target=\"_blank\" href=https://colab.research.google.com/notebooks/data_table.ipynb>data table notebook</a>'\n",
              "            + ' to learn more about interactive tables.';\n",
              "          element.innerHTML = '';\n",
              "          dataTable['output_type'] = 'display_data';\n",
              "          await google.colab.output.renderOutput(dataTable, element);\n",
              "          const docLink = document.createElement('div');\n",
              "          docLink.innerHTML = docLinkHtml;\n",
              "          element.appendChild(docLink);\n",
              "        }\n",
              "      </script>\n",
              "    </div>\n",
              "  </div>\n",
              "  "
            ]
          },
          "metadata": {},
          "execution_count": 2
        }
      ]
    },
    {
      "cell_type": "code",
      "source": [
        "arrest_df['ARREST_BORO'].value_counts()"
      ],
      "metadata": {
        "colab": {
          "base_uri": "https://localhost:8080/"
        },
        "id": "qmasi2JK2YDk",
        "outputId": "7f407849-d9ea-4bcc-f825-302b8f6b49e3"
      },
      "execution_count": 3,
      "outputs": [
        {
          "output_type": "execute_result",
          "data": {
            "text/plain": [
              "K    794319\n",
              "M    760908\n",
              "B    634965\n",
              "Q    558602\n",
              "S    106347\n",
              "Name: ARREST_BORO, dtype: int64"
            ]
          },
          "metadata": {},
          "execution_count": 3
        }
      ]
    },
    {
      "cell_type": "code",
      "source": [
        "columns_drop = [\"X_COORD_CD\", \"Y_COORD_CD\", \"Latitude\", \"Longitude\", \"Lon_Lat\", \"ARREST_KEY\", \"ARREST_DATE\"]\n",
        "arrest_df = arrest_df.drop(columns_drop, 1)\n",
        "arrest_df.head()"
      ],
      "metadata": {
        "colab": {
          "base_uri": "https://localhost:8080/",
          "height": 262
        },
        "id": "QSr4-zH63kw9",
        "outputId": "8712ab61-f67d-4889-c89f-2f795cd18d6c"
      },
      "execution_count": 4,
      "outputs": [
        {
          "output_type": "stream",
          "name": "stderr",
          "text": [
            "<ipython-input-4-00307e9818fa>:2: FutureWarning: In a future version of pandas all arguments of DataFrame.drop except for the argument 'labels' will be keyword-only\n",
            "  arrest_df = arrest_df.drop(columns_drop, 1)\n"
          ]
        },
        {
          "output_type": "execute_result",
          "data": {
            "text/plain": [
              "   PD_CD  KY_CD    LAW_CODE LAW_CAT_CD ARREST_BORO  ARREST_PRECINCT AGE_GROUP  \\\n",
              "0  759.0  359.0  PL 1950500          M           K               79     18-24   \n",
              "1  101.0  344.0  PL 1200001          M           M                6     18-24   \n",
              "2  905.0  347.0  VTL11920U2          M           K               72     25-44   \n",
              "3  782.0  236.0  PL 2650101          M           Q              115     25-44   \n",
              "4  258.0  351.0  PL 1456002          M           Q              104     18-24   \n",
              "\n",
              "  PERP_SEX       PERP_RACE  \n",
              "0        M           BLACK  \n",
              "1        M           WHITE  \n",
              "2        M  WHITE HISPANIC  \n",
              "3        M  BLACK HISPANIC  \n",
              "4        M           WHITE  "
            ],
            "text/html": [
              "\n",
              "  <div id=\"df-70126b0b-8649-4d89-b1a6-eafe3299cb9f\">\n",
              "    <div class=\"colab-df-container\">\n",
              "      <div>\n",
              "<style scoped>\n",
              "    .dataframe tbody tr th:only-of-type {\n",
              "        vertical-align: middle;\n",
              "    }\n",
              "\n",
              "    .dataframe tbody tr th {\n",
              "        vertical-align: top;\n",
              "    }\n",
              "\n",
              "    .dataframe thead th {\n",
              "        text-align: right;\n",
              "    }\n",
              "</style>\n",
              "<table border=\"1\" class=\"dataframe\">\n",
              "  <thead>\n",
              "    <tr style=\"text-align: right;\">\n",
              "      <th></th>\n",
              "      <th>PD_CD</th>\n",
              "      <th>KY_CD</th>\n",
              "      <th>LAW_CODE</th>\n",
              "      <th>LAW_CAT_CD</th>\n",
              "      <th>ARREST_BORO</th>\n",
              "      <th>ARREST_PRECINCT</th>\n",
              "      <th>AGE_GROUP</th>\n",
              "      <th>PERP_SEX</th>\n",
              "      <th>PERP_RACE</th>\n",
              "    </tr>\n",
              "  </thead>\n",
              "  <tbody>\n",
              "    <tr>\n",
              "      <th>0</th>\n",
              "      <td>759.0</td>\n",
              "      <td>359.0</td>\n",
              "      <td>PL 1950500</td>\n",
              "      <td>M</td>\n",
              "      <td>K</td>\n",
              "      <td>79</td>\n",
              "      <td>18-24</td>\n",
              "      <td>M</td>\n",
              "      <td>BLACK</td>\n",
              "    </tr>\n",
              "    <tr>\n",
              "      <th>1</th>\n",
              "      <td>101.0</td>\n",
              "      <td>344.0</td>\n",
              "      <td>PL 1200001</td>\n",
              "      <td>M</td>\n",
              "      <td>M</td>\n",
              "      <td>6</td>\n",
              "      <td>18-24</td>\n",
              "      <td>M</td>\n",
              "      <td>WHITE</td>\n",
              "    </tr>\n",
              "    <tr>\n",
              "      <th>2</th>\n",
              "      <td>905.0</td>\n",
              "      <td>347.0</td>\n",
              "      <td>VTL11920U2</td>\n",
              "      <td>M</td>\n",
              "      <td>K</td>\n",
              "      <td>72</td>\n",
              "      <td>25-44</td>\n",
              "      <td>M</td>\n",
              "      <td>WHITE HISPANIC</td>\n",
              "    </tr>\n",
              "    <tr>\n",
              "      <th>3</th>\n",
              "      <td>782.0</td>\n",
              "      <td>236.0</td>\n",
              "      <td>PL 2650101</td>\n",
              "      <td>M</td>\n",
              "      <td>Q</td>\n",
              "      <td>115</td>\n",
              "      <td>25-44</td>\n",
              "      <td>M</td>\n",
              "      <td>BLACK HISPANIC</td>\n",
              "    </tr>\n",
              "    <tr>\n",
              "      <th>4</th>\n",
              "      <td>258.0</td>\n",
              "      <td>351.0</td>\n",
              "      <td>PL 1456002</td>\n",
              "      <td>M</td>\n",
              "      <td>Q</td>\n",
              "      <td>104</td>\n",
              "      <td>18-24</td>\n",
              "      <td>M</td>\n",
              "      <td>WHITE</td>\n",
              "    </tr>\n",
              "  </tbody>\n",
              "</table>\n",
              "</div>\n",
              "      <button class=\"colab-df-convert\" onclick=\"convertToInteractive('df-70126b0b-8649-4d89-b1a6-eafe3299cb9f')\"\n",
              "              title=\"Convert this dataframe to an interactive table.\"\n",
              "              style=\"display:none;\">\n",
              "        \n",
              "  <svg xmlns=\"http://www.w3.org/2000/svg\" height=\"24px\"viewBox=\"0 0 24 24\"\n",
              "       width=\"24px\">\n",
              "    <path d=\"M0 0h24v24H0V0z\" fill=\"none\"/>\n",
              "    <path d=\"M18.56 5.44l.94 2.06.94-2.06 2.06-.94-2.06-.94-.94-2.06-.94 2.06-2.06.94zm-11 1L8.5 8.5l.94-2.06 2.06-.94-2.06-.94L8.5 2.5l-.94 2.06-2.06.94zm10 10l.94 2.06.94-2.06 2.06-.94-2.06-.94-.94-2.06-.94 2.06-2.06.94z\"/><path d=\"M17.41 7.96l-1.37-1.37c-.4-.4-.92-.59-1.43-.59-.52 0-1.04.2-1.43.59L10.3 9.45l-7.72 7.72c-.78.78-.78 2.05 0 2.83L4 21.41c.39.39.9.59 1.41.59.51 0 1.02-.2 1.41-.59l7.78-7.78 2.81-2.81c.8-.78.8-2.07 0-2.86zM5.41 20L4 18.59l7.72-7.72 1.47 1.35L5.41 20z\"/>\n",
              "  </svg>\n",
              "      </button>\n",
              "      \n",
              "  <style>\n",
              "    .colab-df-container {\n",
              "      display:flex;\n",
              "      flex-wrap:wrap;\n",
              "      gap: 12px;\n",
              "    }\n",
              "\n",
              "    .colab-df-convert {\n",
              "      background-color: #E8F0FE;\n",
              "      border: none;\n",
              "      border-radius: 50%;\n",
              "      cursor: pointer;\n",
              "      display: none;\n",
              "      fill: #1967D2;\n",
              "      height: 32px;\n",
              "      padding: 0 0 0 0;\n",
              "      width: 32px;\n",
              "    }\n",
              "\n",
              "    .colab-df-convert:hover {\n",
              "      background-color: #E2EBFA;\n",
              "      box-shadow: 0px 1px 2px rgba(60, 64, 67, 0.3), 0px 1px 3px 1px rgba(60, 64, 67, 0.15);\n",
              "      fill: #174EA6;\n",
              "    }\n",
              "\n",
              "    [theme=dark] .colab-df-convert {\n",
              "      background-color: #3B4455;\n",
              "      fill: #D2E3FC;\n",
              "    }\n",
              "\n",
              "    [theme=dark] .colab-df-convert:hover {\n",
              "      background-color: #434B5C;\n",
              "      box-shadow: 0px 1px 3px 1px rgba(0, 0, 0, 0.15);\n",
              "      filter: drop-shadow(0px 1px 2px rgba(0, 0, 0, 0.3));\n",
              "      fill: #FFFFFF;\n",
              "    }\n",
              "  </style>\n",
              "\n",
              "      <script>\n",
              "        const buttonEl =\n",
              "          document.querySelector('#df-70126b0b-8649-4d89-b1a6-eafe3299cb9f button.colab-df-convert');\n",
              "        buttonEl.style.display =\n",
              "          google.colab.kernel.accessAllowed ? 'block' : 'none';\n",
              "\n",
              "        async function convertToInteractive(key) {\n",
              "          const element = document.querySelector('#df-70126b0b-8649-4d89-b1a6-eafe3299cb9f');\n",
              "          const dataTable =\n",
              "            await google.colab.kernel.invokeFunction('convertToInteractive',\n",
              "                                                     [key], {});\n",
              "          if (!dataTable) return;\n",
              "\n",
              "          const docLinkHtml = 'Like what you see? Visit the ' +\n",
              "            '<a target=\"_blank\" href=https://colab.research.google.com/notebooks/data_table.ipynb>data table notebook</a>'\n",
              "            + ' to learn more about interactive tables.';\n",
              "          element.innerHTML = '';\n",
              "          dataTable['output_type'] = 'display_data';\n",
              "          await google.colab.output.renderOutput(dataTable, element);\n",
              "          const docLink = document.createElement('div');\n",
              "          docLink.innerHTML = docLinkHtml;\n",
              "          element.appendChild(docLink);\n",
              "        }\n",
              "      </script>\n",
              "    </div>\n",
              "  </div>\n",
              "  "
            ]
          },
          "metadata": {},
          "execution_count": 4
        }
      ]
    },
    {
      "cell_type": "code",
      "source": [
        "arrest_df.info()"
      ],
      "metadata": {
        "colab": {
          "base_uri": "https://localhost:8080/"
        },
        "id": "h4ZTE1UO5dFk",
        "outputId": "942d6ea6-14d5-4bb8-d9a4-39b0d01f6b99"
      },
      "execution_count": 5,
      "outputs": [
        {
          "output_type": "stream",
          "name": "stdout",
          "text": [
            "<class 'pandas.core.frame.DataFrame'>\n",
            "RangeIndex: 2855141 entries, 0 to 2855140\n",
            "Data columns (total 9 columns):\n",
            " #   Column           Dtype  \n",
            "---  ------           -----  \n",
            " 0   PD_CD            float64\n",
            " 1   KY_CD            float64\n",
            " 2   LAW_CODE         object \n",
            " 3   LAW_CAT_CD       object \n",
            " 4   ARREST_BORO      object \n",
            " 5   ARREST_PRECINCT  int64  \n",
            " 6   AGE_GROUP        object \n",
            " 7   PERP_SEX         object \n",
            " 8   PERP_RACE        object \n",
            "dtypes: float64(2), int64(1), object(6)\n",
            "memory usage: 196.0+ MB\n"
          ]
        }
      ]
    },
    {
      "cell_type": "code",
      "source": [
        "arrest_df[\"AGE_GROUP\"].value_counts()"
      ],
      "metadata": {
        "colab": {
          "base_uri": "https://localhost:8080/"
        },
        "id": "ODXUvhCT8rvn",
        "outputId": "7f77f72e-7941-4359-8a4b-afd343196d50"
      },
      "execution_count": 8,
      "outputs": [
        {
          "output_type": "execute_result",
          "data": {
            "text/plain": [
              "25-44    1382728\n",
              "18-24     707682\n",
              "45-64     554451\n",
              "<18       180976\n",
              "65+        29304\n",
              "Name: AGE_GROUP, dtype: int64"
            ]
          },
          "metadata": {},
          "execution_count": 8
        }
      ]
    },
    {
      "cell_type": "code",
      "source": [
        "arrest_df[\"AGE_GROUP\"]= arrest_df[\"AGE_GROUP\"].str.replace(\"25-\", \"\")\n",
        "arrest_df[\"AGE_GROUP\"]= arrest_df[\"AGE_GROUP\"].str.replace(\"18-\", \"\")\n",
        "arrest_df[\"AGE_GROUP\"]= arrest_df[\"AGE_GROUP\"].str.replace(\"45-\", \"\")\n",
        "arrest_df[\"AGE_GROUP\"]= arrest_df[\"AGE_GROUP\"].str.replace(\"<18\", \"17\")\n",
        "arrest_df[\"AGE_GROUP\"]= arrest_df[\"AGE_GROUP\"].str.replace(\"+\", \"\")\n",
        "arrest_df[\"AGE_GROUP\"].value_counts()"
      ],
      "metadata": {
        "colab": {
          "base_uri": "https://localhost:8080/"
        },
        "id": "0egPSwJe8r7D",
        "outputId": "e6e61393-fa5b-4519-c728-739bea2c5132"
      },
      "execution_count": 10,
      "outputs": [
        {
          "output_type": "stream",
          "name": "stderr",
          "text": [
            "<ipython-input-10-82071f55752f>:5: FutureWarning: The default value of regex will change from True to False in a future version. In addition, single character regular expressions will *not* be treated as literal strings when regex=True.\n",
            "  arrest_df[\"AGE_GROUP\"]= arrest_df[\"AGE_GROUP\"].str.replace(\"+\", \"\")\n"
          ]
        },
        {
          "output_type": "execute_result",
          "data": {
            "text/plain": [
              "44    1382728\n",
              "24     707682\n",
              "64     554451\n",
              "17     180976\n",
              "65      29304\n",
              "Name: AGE_GROUP, dtype: int64"
            ]
          },
          "metadata": {},
          "execution_count": 10
        }
      ]
    },
    {
      "cell_type": "code",
      "source": [
        "# Encode letters to number"
      ],
      "metadata": {
        "id": "5-eUa-Bp8sEM"
      },
      "execution_count": null,
      "outputs": []
    },
    {
      "cell_type": "code",
      "source": [
        "# separate X, and y"
      ],
      "metadata": {
        "id": "Rr9MwkkT8sP5"
      },
      "execution_count": null,
      "outputs": []
    },
    {
      "cell_type": "code",
      "source": [],
      "metadata": {
        "id": "crOEBsKU8sYP"
      },
      "execution_count": null,
      "outputs": []
    },
    {
      "cell_type": "code",
      "source": [
        "\n",
        "from sklearn.model_selection import  train_test_split\n",
        "x_train, x_test, y_train, y_test = train_test_split(X,y, ramdon_state = 78)"
      ],
      "metadata": {
        "colab": {
          "base_uri": "https://localhost:8080/",
          "height": 187
        },
        "id": "9fVPfEAT5Wuu",
        "outputId": "571454cb-f5a3-4f1a-f123-a7c58e6c3060"
      },
      "execution_count": 6,
      "outputs": [
        {
          "output_type": "error",
          "ename": "NameError",
          "evalue": "ignored",
          "traceback": [
            "\u001b[0;31m---------------------------------------------------------------------------\u001b[0m",
            "\u001b[0;31mNameError\u001b[0m                                 Traceback (most recent call last)",
            "\u001b[0;32m<ipython-input-6-b96f9d3e5d43>\u001b[0m in \u001b[0;36m<module>\u001b[0;34m\u001b[0m\n\u001b[1;32m      1\u001b[0m \u001b[0;32mfrom\u001b[0m \u001b[0msklearn\u001b[0m\u001b[0;34m.\u001b[0m\u001b[0mmodel_selection\u001b[0m \u001b[0;32mimport\u001b[0m  \u001b[0mtrain_test_split\u001b[0m\u001b[0;34m\u001b[0m\u001b[0;34m\u001b[0m\u001b[0m\n\u001b[0;32m----> 2\u001b[0;31m \u001b[0mx_train\u001b[0m\u001b[0;34m,\u001b[0m \u001b[0mx_test\u001b[0m\u001b[0;34m,\u001b[0m \u001b[0my_train\u001b[0m\u001b[0;34m,\u001b[0m \u001b[0my_test\u001b[0m \u001b[0;34m=\u001b[0m \u001b[0mtrain_test_split\u001b[0m\u001b[0;34m(\u001b[0m\u001b[0marrest_raw_df\u001b[0m\u001b[0;34m.\u001b[0m\u001b[0mdrop\u001b[0m\u001b[0;34m(\u001b[0m\u001b[0;34m[\u001b[0m\u001b[0;34m'ARREST_DATE'\u001b[0m\u001b[0;34m]\u001b[0m\u001b[0;34m,\u001b[0m\u001b[0maxis\u001b[0m \u001b[0;34m=\u001b[0m \u001b[0;34m'ARREST_BORO'\u001b[0m\u001b[0;34m)\u001b[0m\u001b[0;34m,\u001b[0m \u001b[0mdigits\u001b[0m\u001b[0;34m.\u001b[0m\u001b[0mtarget\u001b[0m\u001b[0;34m,\u001b[0m\u001b[0mtest_side\u001b[0m \u001b[0;34m=\u001b[0m \u001b[0;36m0.2\u001b[0m\u001b[0;34m)\u001b[0m\u001b[0;34m\u001b[0m\u001b[0;34m\u001b[0m\u001b[0m\n\u001b[0m",
            "\u001b[0;31mNameError\u001b[0m: name 'arrest_raw_df' is not defined"
          ]
        }
      ]
    },
    {
      "cell_type": "code",
      "execution_count": null,
      "metadata": {
        "id": "iL3HMXT3sqYw"
      },
      "outputs": [],
      "source": [
        "# Keep all the OFNS_DESC that are being traded.\n",
        "arrest_raw_df=arrest_raw_df[arrest_raw_df[\"OFNS_DESC\"]== True]\n",
        "arrest_raw_df.shape"
      ]
    }
  ],
  "metadata": {
    "colab": {
      "provenance": []
    },
    "kernelspec": {
      "display_name": "Python 3",
      "name": "python3"
    },
    "language_info": {
      "name": "python"
    }
  },
  "nbformat": 4,
  "nbformat_minor": 0
}