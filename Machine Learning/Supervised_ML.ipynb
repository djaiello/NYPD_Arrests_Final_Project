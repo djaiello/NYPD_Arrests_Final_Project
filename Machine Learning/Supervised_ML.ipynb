{
  "cells": [
    {
      "cell_type": "code",
      "execution_count": 1,
      "metadata": {
        "id": "db835Rb7vmpD",
        "colab": {
          "base_uri": "https://localhost:8080/"
        },
        "outputId": "2987fffd-5d29-4e0d-b63c-542524985699"
      },
      "outputs": [
        {
          "output_type": "stream",
          "name": "stdout",
          "text": [
            "Mounted at /content/gdrive\n"
          ]
        }
      ],
      "source": [
        "from pathlib import Path\n",
        "import matplotlib.pyplot as plt\n",
        "from sklearn.linear_model import LinearRegression\n",
        "from sklearn. datasets import load_digits\n",
        "digits = load_digits()\n",
        "from google.colab import files\n",
        "from google.colab import drive\n",
        "\n",
        "# Initial imports\n",
        "import pandas as pd\n",
        "from sklearn import tree\n",
        "from sklearn.preprocessing import StandardScaler\n",
        "from sklearn.model_selection import train_test_split\n",
        "from sklearn.metrics import confusion_matrix, accuracy_score, classification_report\n",
        "\n",
        "# Mount the Google Drive\n",
        "drive.mount('/content/gdrive')"
      ]
    },
    {
      "cell_type": "code",
      "source": [
        "# Full dataset (~4 min.)\n",
        "arrest_df = pd.read_csv(\"gdrive/My Drive/Colab Notebooks/arrest_10yr_clean.csv\")\n",
        "\n",
        "print(arrest_df.shape)\n",
        "arrest_df.head()"
      ],
      "metadata": {
        "colab": {
          "base_uri": "https://localhost:8080/",
          "height": 268
        },
        "id": "Qnylc36-w5id",
        "outputId": "f8a98de3-6892-4c5b-e56e-fa454a9aeffa"
      },
      "execution_count": 2,
      "outputs": [
        {
          "output_type": "stream",
          "name": "stdout",
          "text": [
            "(2855141, 16)\n"
          ]
        },
        {
          "output_type": "execute_result",
          "data": {
            "text/plain": [
              "   ARREST_KEY ARREST_DATE  PD_CD  KY_CD    LAW_CODE LAW_CAT_CD ARREST_BORO  \\\n",
              "0    82422385  2012-01-01  759.0  359.0  PL 1950500          M           K   \n",
              "1    82422694  2012-01-01  101.0  344.0  PL 1200001          M           M   \n",
              "2    82422331  2012-01-01  905.0  347.0  VTL11920U2          M           K   \n",
              "3    82422817  2012-01-01  782.0  236.0  PL 2650101          M           Q   \n",
              "4    82422890  2012-01-01  258.0  351.0  PL 1456002          M           Q   \n",
              "\n",
              "   ARREST_PRECINCT AGE_GROUP PERP_SEX       PERP_RACE  X_COORD_CD  Y_COORD_CD  \\\n",
              "0               79     18-24        M           BLACK    997366.0    192877.0   \n",
              "1                6     18-24        M           WHITE    983794.0    204737.0   \n",
              "2               72     25-44        M  WHITE HISPANIC    989519.0    178298.0   \n",
              "3              115     25-44        M  BLACK HISPANIC   1017897.0    219850.0   \n",
              "4              104     18-24        M           WHITE   1012109.0    195368.0   \n",
              "\n",
              "    Latitude  Longitude                                       Lon_Lat  \n",
              "0  40.696078 -73.952702  POINT (-73.95270199199997 40.69607807800003)  \n",
              "1  40.728641 -74.001647  POINT (-74.00164669699996 40.72864066600005)  \n",
              "2  40.656070 -73.981012      POINT (-73.981011557 40.656070154000076)  \n",
              "3  40.770058 -73.878527  POINT (-73.87852744499997 40.77005803100008)  \n",
              "4  40.702881 -73.899525  POINT (-73.89952491499997 40.70288116000006)  "
            ],
            "text/html": [
              "\n",
              "  <div id=\"df-62bee3fc-8ebb-49ff-8d28-0f5338234f18\">\n",
              "    <div class=\"colab-df-container\">\n",
              "      <div>\n",
              "<style scoped>\n",
              "    .dataframe tbody tr th:only-of-type {\n",
              "        vertical-align: middle;\n",
              "    }\n",
              "\n",
              "    .dataframe tbody tr th {\n",
              "        vertical-align: top;\n",
              "    }\n",
              "\n",
              "    .dataframe thead th {\n",
              "        text-align: right;\n",
              "    }\n",
              "</style>\n",
              "<table border=\"1\" class=\"dataframe\">\n",
              "  <thead>\n",
              "    <tr style=\"text-align: right;\">\n",
              "      <th></th>\n",
              "      <th>ARREST_KEY</th>\n",
              "      <th>ARREST_DATE</th>\n",
              "      <th>PD_CD</th>\n",
              "      <th>KY_CD</th>\n",
              "      <th>LAW_CODE</th>\n",
              "      <th>LAW_CAT_CD</th>\n",
              "      <th>ARREST_BORO</th>\n",
              "      <th>ARREST_PRECINCT</th>\n",
              "      <th>AGE_GROUP</th>\n",
              "      <th>PERP_SEX</th>\n",
              "      <th>PERP_RACE</th>\n",
              "      <th>X_COORD_CD</th>\n",
              "      <th>Y_COORD_CD</th>\n",
              "      <th>Latitude</th>\n",
              "      <th>Longitude</th>\n",
              "      <th>Lon_Lat</th>\n",
              "    </tr>\n",
              "  </thead>\n",
              "  <tbody>\n",
              "    <tr>\n",
              "      <th>0</th>\n",
              "      <td>82422385</td>\n",
              "      <td>2012-01-01</td>\n",
              "      <td>759.0</td>\n",
              "      <td>359.0</td>\n",
              "      <td>PL 1950500</td>\n",
              "      <td>M</td>\n",
              "      <td>K</td>\n",
              "      <td>79</td>\n",
              "      <td>18-24</td>\n",
              "      <td>M</td>\n",
              "      <td>BLACK</td>\n",
              "      <td>997366.0</td>\n",
              "      <td>192877.0</td>\n",
              "      <td>40.696078</td>\n",
              "      <td>-73.952702</td>\n",
              "      <td>POINT (-73.95270199199997 40.69607807800003)</td>\n",
              "    </tr>\n",
              "    <tr>\n",
              "      <th>1</th>\n",
              "      <td>82422694</td>\n",
              "      <td>2012-01-01</td>\n",
              "      <td>101.0</td>\n",
              "      <td>344.0</td>\n",
              "      <td>PL 1200001</td>\n",
              "      <td>M</td>\n",
              "      <td>M</td>\n",
              "      <td>6</td>\n",
              "      <td>18-24</td>\n",
              "      <td>M</td>\n",
              "      <td>WHITE</td>\n",
              "      <td>983794.0</td>\n",
              "      <td>204737.0</td>\n",
              "      <td>40.728641</td>\n",
              "      <td>-74.001647</td>\n",
              "      <td>POINT (-74.00164669699996 40.72864066600005)</td>\n",
              "    </tr>\n",
              "    <tr>\n",
              "      <th>2</th>\n",
              "      <td>82422331</td>\n",
              "      <td>2012-01-01</td>\n",
              "      <td>905.0</td>\n",
              "      <td>347.0</td>\n",
              "      <td>VTL11920U2</td>\n",
              "      <td>M</td>\n",
              "      <td>K</td>\n",
              "      <td>72</td>\n",
              "      <td>25-44</td>\n",
              "      <td>M</td>\n",
              "      <td>WHITE HISPANIC</td>\n",
              "      <td>989519.0</td>\n",
              "      <td>178298.0</td>\n",
              "      <td>40.656070</td>\n",
              "      <td>-73.981012</td>\n",
              "      <td>POINT (-73.981011557 40.656070154000076)</td>\n",
              "    </tr>\n",
              "    <tr>\n",
              "      <th>3</th>\n",
              "      <td>82422817</td>\n",
              "      <td>2012-01-01</td>\n",
              "      <td>782.0</td>\n",
              "      <td>236.0</td>\n",
              "      <td>PL 2650101</td>\n",
              "      <td>M</td>\n",
              "      <td>Q</td>\n",
              "      <td>115</td>\n",
              "      <td>25-44</td>\n",
              "      <td>M</td>\n",
              "      <td>BLACK HISPANIC</td>\n",
              "      <td>1017897.0</td>\n",
              "      <td>219850.0</td>\n",
              "      <td>40.770058</td>\n",
              "      <td>-73.878527</td>\n",
              "      <td>POINT (-73.87852744499997 40.77005803100008)</td>\n",
              "    </tr>\n",
              "    <tr>\n",
              "      <th>4</th>\n",
              "      <td>82422890</td>\n",
              "      <td>2012-01-01</td>\n",
              "      <td>258.0</td>\n",
              "      <td>351.0</td>\n",
              "      <td>PL 1456002</td>\n",
              "      <td>M</td>\n",
              "      <td>Q</td>\n",
              "      <td>104</td>\n",
              "      <td>18-24</td>\n",
              "      <td>M</td>\n",
              "      <td>WHITE</td>\n",
              "      <td>1012109.0</td>\n",
              "      <td>195368.0</td>\n",
              "      <td>40.702881</td>\n",
              "      <td>-73.899525</td>\n",
              "      <td>POINT (-73.89952491499997 40.70288116000006)</td>\n",
              "    </tr>\n",
              "  </tbody>\n",
              "</table>\n",
              "</div>\n",
              "      <button class=\"colab-df-convert\" onclick=\"convertToInteractive('df-62bee3fc-8ebb-49ff-8d28-0f5338234f18')\"\n",
              "              title=\"Convert this dataframe to an interactive table.\"\n",
              "              style=\"display:none;\">\n",
              "        \n",
              "  <svg xmlns=\"http://www.w3.org/2000/svg\" height=\"24px\"viewBox=\"0 0 24 24\"\n",
              "       width=\"24px\">\n",
              "    <path d=\"M0 0h24v24H0V0z\" fill=\"none\"/>\n",
              "    <path d=\"M18.56 5.44l.94 2.06.94-2.06 2.06-.94-2.06-.94-.94-2.06-.94 2.06-2.06.94zm-11 1L8.5 8.5l.94-2.06 2.06-.94-2.06-.94L8.5 2.5l-.94 2.06-2.06.94zm10 10l.94 2.06.94-2.06 2.06-.94-2.06-.94-.94-2.06-.94 2.06-2.06.94z\"/><path d=\"M17.41 7.96l-1.37-1.37c-.4-.4-.92-.59-1.43-.59-.52 0-1.04.2-1.43.59L10.3 9.45l-7.72 7.72c-.78.78-.78 2.05 0 2.83L4 21.41c.39.39.9.59 1.41.59.51 0 1.02-.2 1.41-.59l7.78-7.78 2.81-2.81c.8-.78.8-2.07 0-2.86zM5.41 20L4 18.59l7.72-7.72 1.47 1.35L5.41 20z\"/>\n",
              "  </svg>\n",
              "      </button>\n",
              "      \n",
              "  <style>\n",
              "    .colab-df-container {\n",
              "      display:flex;\n",
              "      flex-wrap:wrap;\n",
              "      gap: 12px;\n",
              "    }\n",
              "\n",
              "    .colab-df-convert {\n",
              "      background-color: #E8F0FE;\n",
              "      border: none;\n",
              "      border-radius: 50%;\n",
              "      cursor: pointer;\n",
              "      display: none;\n",
              "      fill: #1967D2;\n",
              "      height: 32px;\n",
              "      padding: 0 0 0 0;\n",
              "      width: 32px;\n",
              "    }\n",
              "\n",
              "    .colab-df-convert:hover {\n",
              "      background-color: #E2EBFA;\n",
              "      box-shadow: 0px 1px 2px rgba(60, 64, 67, 0.3), 0px 1px 3px 1px rgba(60, 64, 67, 0.15);\n",
              "      fill: #174EA6;\n",
              "    }\n",
              "\n",
              "    [theme=dark] .colab-df-convert {\n",
              "      background-color: #3B4455;\n",
              "      fill: #D2E3FC;\n",
              "    }\n",
              "\n",
              "    [theme=dark] .colab-df-convert:hover {\n",
              "      background-color: #434B5C;\n",
              "      box-shadow: 0px 1px 3px 1px rgba(0, 0, 0, 0.15);\n",
              "      filter: drop-shadow(0px 1px 2px rgba(0, 0, 0, 0.3));\n",
              "      fill: #FFFFFF;\n",
              "    }\n",
              "  </style>\n",
              "\n",
              "      <script>\n",
              "        const buttonEl =\n",
              "          document.querySelector('#df-62bee3fc-8ebb-49ff-8d28-0f5338234f18 button.colab-df-convert');\n",
              "        buttonEl.style.display =\n",
              "          google.colab.kernel.accessAllowed ? 'block' : 'none';\n",
              "\n",
              "        async function convertToInteractive(key) {\n",
              "          const element = document.querySelector('#df-62bee3fc-8ebb-49ff-8d28-0f5338234f18');\n",
              "          const dataTable =\n",
              "            await google.colab.kernel.invokeFunction('convertToInteractive',\n",
              "                                                     [key], {});\n",
              "          if (!dataTable) return;\n",
              "\n",
              "          const docLinkHtml = 'Like what you see? Visit the ' +\n",
              "            '<a target=\"_blank\" href=https://colab.research.google.com/notebooks/data_table.ipynb>data table notebook</a>'\n",
              "            + ' to learn more about interactive tables.';\n",
              "          element.innerHTML = '';\n",
              "          dataTable['output_type'] = 'display_data';\n",
              "          await google.colab.output.renderOutput(dataTable, element);\n",
              "          const docLink = document.createElement('div');\n",
              "          docLink.innerHTML = docLinkHtml;\n",
              "          element.appendChild(docLink);\n",
              "        }\n",
              "      </script>\n",
              "    </div>\n",
              "  </div>\n",
              "  "
            ]
          },
          "metadata": {},
          "execution_count": 2
        }
      ]
    },
    {
      "cell_type": "code",
      "source": [
        "arrest_df['ARREST_BORO'].value_counts()"
      ],
      "metadata": {
        "colab": {
          "base_uri": "https://localhost:8080/"
        },
        "id": "qmasi2JK2YDk",
        "outputId": "b21ba7ec-9e1b-4341-f3a9-36f070b25922"
      },
      "execution_count": 3,
      "outputs": [
        {
          "output_type": "execute_result",
          "data": {
            "text/plain": [
              "K    794319\n",
              "M    760908\n",
              "B    634965\n",
              "Q    558602\n",
              "S    106347\n",
              "Name: ARREST_BORO, dtype: int64"
            ]
          },
          "metadata": {},
          "execution_count": 3
        }
      ]
    },
    {
      "cell_type": "code",
      "source": [
        "columns_drop = [\"X_COORD_CD\", \"Y_COORD_CD\", \"Latitude\", \"Longitude\", \"Lon_Lat\", \"ARREST_KEY\", \"ARREST_DATE\", \"LAW_CODE\", \"ARREST_PRECINCT\"]\n",
        "arrest_df = arrest_df.drop(columns_drop, 1)\n",
        "arrest_df.head()"
      ],
      "metadata": {
        "colab": {
          "base_uri": "https://localhost:8080/",
          "height": 241
        },
        "id": "QSr4-zH63kw9",
        "outputId": "0a81281a-9c4e-4d9b-bc13-3aace052aa09"
      },
      "execution_count": 4,
      "outputs": [
        {
          "output_type": "stream",
          "name": "stderr",
          "text": [
            "<ipython-input-4-d6ec6c0d5c45>:2: FutureWarning: In a future version of pandas all arguments of DataFrame.drop except for the argument 'labels' will be keyword-only.\n",
            "  arrest_df = arrest_df.drop(columns_drop, 1)\n"
          ]
        },
        {
          "output_type": "execute_result",
          "data": {
            "text/plain": [
              "   PD_CD  KY_CD LAW_CAT_CD ARREST_BORO AGE_GROUP PERP_SEX       PERP_RACE\n",
              "0  759.0  359.0          M           K     18-24        M           BLACK\n",
              "1  101.0  344.0          M           M     18-24        M           WHITE\n",
              "2  905.0  347.0          M           K     25-44        M  WHITE HISPANIC\n",
              "3  782.0  236.0          M           Q     25-44        M  BLACK HISPANIC\n",
              "4  258.0  351.0          M           Q     18-24        M           WHITE"
            ],
            "text/html": [
              "\n",
              "  <div id=\"df-2de5a490-9e0d-4a53-88b9-2c1fc8b6122e\">\n",
              "    <div class=\"colab-df-container\">\n",
              "      <div>\n",
              "<style scoped>\n",
              "    .dataframe tbody tr th:only-of-type {\n",
              "        vertical-align: middle;\n",
              "    }\n",
              "\n",
              "    .dataframe tbody tr th {\n",
              "        vertical-align: top;\n",
              "    }\n",
              "\n",
              "    .dataframe thead th {\n",
              "        text-align: right;\n",
              "    }\n",
              "</style>\n",
              "<table border=\"1\" class=\"dataframe\">\n",
              "  <thead>\n",
              "    <tr style=\"text-align: right;\">\n",
              "      <th></th>\n",
              "      <th>PD_CD</th>\n",
              "      <th>KY_CD</th>\n",
              "      <th>LAW_CAT_CD</th>\n",
              "      <th>ARREST_BORO</th>\n",
              "      <th>AGE_GROUP</th>\n",
              "      <th>PERP_SEX</th>\n",
              "      <th>PERP_RACE</th>\n",
              "    </tr>\n",
              "  </thead>\n",
              "  <tbody>\n",
              "    <tr>\n",
              "      <th>0</th>\n",
              "      <td>759.0</td>\n",
              "      <td>359.0</td>\n",
              "      <td>M</td>\n",
              "      <td>K</td>\n",
              "      <td>18-24</td>\n",
              "      <td>M</td>\n",
              "      <td>BLACK</td>\n",
              "    </tr>\n",
              "    <tr>\n",
              "      <th>1</th>\n",
              "      <td>101.0</td>\n",
              "      <td>344.0</td>\n",
              "      <td>M</td>\n",
              "      <td>M</td>\n",
              "      <td>18-24</td>\n",
              "      <td>M</td>\n",
              "      <td>WHITE</td>\n",
              "    </tr>\n",
              "    <tr>\n",
              "      <th>2</th>\n",
              "      <td>905.0</td>\n",
              "      <td>347.0</td>\n",
              "      <td>M</td>\n",
              "      <td>K</td>\n",
              "      <td>25-44</td>\n",
              "      <td>M</td>\n",
              "      <td>WHITE HISPANIC</td>\n",
              "    </tr>\n",
              "    <tr>\n",
              "      <th>3</th>\n",
              "      <td>782.0</td>\n",
              "      <td>236.0</td>\n",
              "      <td>M</td>\n",
              "      <td>Q</td>\n",
              "      <td>25-44</td>\n",
              "      <td>M</td>\n",
              "      <td>BLACK HISPANIC</td>\n",
              "    </tr>\n",
              "    <tr>\n",
              "      <th>4</th>\n",
              "      <td>258.0</td>\n",
              "      <td>351.0</td>\n",
              "      <td>M</td>\n",
              "      <td>Q</td>\n",
              "      <td>18-24</td>\n",
              "      <td>M</td>\n",
              "      <td>WHITE</td>\n",
              "    </tr>\n",
              "  </tbody>\n",
              "</table>\n",
              "</div>\n",
              "      <button class=\"colab-df-convert\" onclick=\"convertToInteractive('df-2de5a490-9e0d-4a53-88b9-2c1fc8b6122e')\"\n",
              "              title=\"Convert this dataframe to an interactive table.\"\n",
              "              style=\"display:none;\">\n",
              "        \n",
              "  <svg xmlns=\"http://www.w3.org/2000/svg\" height=\"24px\"viewBox=\"0 0 24 24\"\n",
              "       width=\"24px\">\n",
              "    <path d=\"M0 0h24v24H0V0z\" fill=\"none\"/>\n",
              "    <path d=\"M18.56 5.44l.94 2.06.94-2.06 2.06-.94-2.06-.94-.94-2.06-.94 2.06-2.06.94zm-11 1L8.5 8.5l.94-2.06 2.06-.94-2.06-.94L8.5 2.5l-.94 2.06-2.06.94zm10 10l.94 2.06.94-2.06 2.06-.94-2.06-.94-.94-2.06-.94 2.06-2.06.94z\"/><path d=\"M17.41 7.96l-1.37-1.37c-.4-.4-.92-.59-1.43-.59-.52 0-1.04.2-1.43.59L10.3 9.45l-7.72 7.72c-.78.78-.78 2.05 0 2.83L4 21.41c.39.39.9.59 1.41.59.51 0 1.02-.2 1.41-.59l7.78-7.78 2.81-2.81c.8-.78.8-2.07 0-2.86zM5.41 20L4 18.59l7.72-7.72 1.47 1.35L5.41 20z\"/>\n",
              "  </svg>\n",
              "      </button>\n",
              "      \n",
              "  <style>\n",
              "    .colab-df-container {\n",
              "      display:flex;\n",
              "      flex-wrap:wrap;\n",
              "      gap: 12px;\n",
              "    }\n",
              "\n",
              "    .colab-df-convert {\n",
              "      background-color: #E8F0FE;\n",
              "      border: none;\n",
              "      border-radius: 50%;\n",
              "      cursor: pointer;\n",
              "      display: none;\n",
              "      fill: #1967D2;\n",
              "      height: 32px;\n",
              "      padding: 0 0 0 0;\n",
              "      width: 32px;\n",
              "    }\n",
              "\n",
              "    .colab-df-convert:hover {\n",
              "      background-color: #E2EBFA;\n",
              "      box-shadow: 0px 1px 2px rgba(60, 64, 67, 0.3), 0px 1px 3px 1px rgba(60, 64, 67, 0.15);\n",
              "      fill: #174EA6;\n",
              "    }\n",
              "\n",
              "    [theme=dark] .colab-df-convert {\n",
              "      background-color: #3B4455;\n",
              "      fill: #D2E3FC;\n",
              "    }\n",
              "\n",
              "    [theme=dark] .colab-df-convert:hover {\n",
              "      background-color: #434B5C;\n",
              "      box-shadow: 0px 1px 3px 1px rgba(0, 0, 0, 0.15);\n",
              "      filter: drop-shadow(0px 1px 2px rgba(0, 0, 0, 0.3));\n",
              "      fill: #FFFFFF;\n",
              "    }\n",
              "  </style>\n",
              "\n",
              "      <script>\n",
              "        const buttonEl =\n",
              "          document.querySelector('#df-2de5a490-9e0d-4a53-88b9-2c1fc8b6122e button.colab-df-convert');\n",
              "        buttonEl.style.display =\n",
              "          google.colab.kernel.accessAllowed ? 'block' : 'none';\n",
              "\n",
              "        async function convertToInteractive(key) {\n",
              "          const element = document.querySelector('#df-2de5a490-9e0d-4a53-88b9-2c1fc8b6122e');\n",
              "          const dataTable =\n",
              "            await google.colab.kernel.invokeFunction('convertToInteractive',\n",
              "                                                     [key], {});\n",
              "          if (!dataTable) return;\n",
              "\n",
              "          const docLinkHtml = 'Like what you see? Visit the ' +\n",
              "            '<a target=\"_blank\" href=https://colab.research.google.com/notebooks/data_table.ipynb>data table notebook</a>'\n",
              "            + ' to learn more about interactive tables.';\n",
              "          element.innerHTML = '';\n",
              "          dataTable['output_type'] = 'display_data';\n",
              "          await google.colab.output.renderOutput(dataTable, element);\n",
              "          const docLink = document.createElement('div');\n",
              "          docLink.innerHTML = docLinkHtml;\n",
              "          element.appendChild(docLink);\n",
              "        }\n",
              "      </script>\n",
              "    </div>\n",
              "  </div>\n",
              "  "
            ]
          },
          "metadata": {},
          "execution_count": 4
        }
      ]
    },
    {
      "cell_type": "code",
      "source": [
        "arrest_df.info()"
      ],
      "metadata": {
        "colab": {
          "base_uri": "https://localhost:8080/"
        },
        "id": "h4ZTE1UO5dFk",
        "outputId": "1e8e145b-8e74-41ad-b0a2-0e2b989161e2"
      },
      "execution_count": 5,
      "outputs": [
        {
          "output_type": "stream",
          "name": "stdout",
          "text": [
            "<class 'pandas.core.frame.DataFrame'>\n",
            "RangeIndex: 2855141 entries, 0 to 2855140\n",
            "Data columns (total 7 columns):\n",
            " #   Column       Dtype  \n",
            "---  ------       -----  \n",
            " 0   PD_CD        float64\n",
            " 1   KY_CD        float64\n",
            " 2   LAW_CAT_CD   object \n",
            " 3   ARREST_BORO  object \n",
            " 4   AGE_GROUP    object \n",
            " 5   PERP_SEX     object \n",
            " 6   PERP_RACE    object \n",
            "dtypes: float64(2), object(5)\n",
            "memory usage: 152.5+ MB\n"
          ]
        }
      ]
    },
    {
      "cell_type": "code",
      "source": [
        "arrest_df[\"AGE_GROUP\"].value_counts()"
      ],
      "metadata": {
        "colab": {
          "base_uri": "https://localhost:8080/"
        },
        "id": "ODXUvhCT8rvn",
        "outputId": "8b708a38-38ae-4d63-e0a9-499745cfaeb9"
      },
      "execution_count": 6,
      "outputs": [
        {
          "output_type": "execute_result",
          "data": {
            "text/plain": [
              "25-44    1382728\n",
              "18-24     707682\n",
              "45-64     554451\n",
              "<18       180976\n",
              "65+        29304\n",
              "Name: AGE_GROUP, dtype: int64"
            ]
          },
          "metadata": {},
          "execution_count": 6
        }
      ]
    },
    {
      "cell_type": "code",
      "source": [
        "arrest_df[\"AGE_GROUP\"]= arrest_df[\"AGE_GROUP\"].str.replace(\"25-\", \"\")\n",
        "arrest_df[\"AGE_GROUP\"]= arrest_df[\"AGE_GROUP\"].str.replace(\"18-\", \"\")\n",
        "arrest_df[\"AGE_GROUP\"]= arrest_df[\"AGE_GROUP\"].str.replace(\"45-\", \"\")\n",
        "arrest_df[\"AGE_GROUP\"]= arrest_df[\"AGE_GROUP\"].str.replace(\"<18\", \"17\")\n",
        "arrest_df[\"AGE_GROUP\"]= arrest_df[\"AGE_GROUP\"].str.replace(\"+\", \"\")\n",
        "arrest_df[\"AGE_GROUP\"].value_counts()"
      ],
      "metadata": {
        "colab": {
          "base_uri": "https://localhost:8080/"
        },
        "id": "0egPSwJe8r7D",
        "outputId": "db1b705d-52b2-4ee4-c5fa-08e21a3c1b22"
      },
      "execution_count": 7,
      "outputs": [
        {
          "output_type": "stream",
          "name": "stderr",
          "text": [
            "<ipython-input-7-82071f55752f>:5: FutureWarning: The default value of regex will change from True to False in a future version. In addition, single character regular expressions will *not* be treated as literal strings when regex=True.\n",
            "  arrest_df[\"AGE_GROUP\"]= arrest_df[\"AGE_GROUP\"].str.replace(\"+\", \"\")\n"
          ]
        },
        {
          "output_type": "execute_result",
          "data": {
            "text/plain": [
              "44    1382728\n",
              "24     707682\n",
              "64     554451\n",
              "17     180976\n",
              "65      29304\n",
              "Name: AGE_GROUP, dtype: int64"
            ]
          },
          "metadata": {},
          "execution_count": 7
        }
      ]
    },
    {
      "cell_type": "code",
      "source": [
        "# Encode letters to number\n",
        "\n",
        "arrest_df_encoded = pd.get_dummies(arrest_df, columns=[\"PERP_SEX\", \"PERP_RACE\", \"LAW_CAT_CD\"])\n",
        "arrest_df_encoded.head()"
      ],
      "metadata": {
        "colab": {
          "base_uri": "https://localhost:8080/",
          "height": 305
        },
        "id": "5-eUa-Bp8sEM",
        "outputId": "edd65bc2-6a5a-4efa-eea4-5cce585561ad"
      },
      "execution_count": 8,
      "outputs": [
        {
          "output_type": "execute_result",
          "data": {
            "text/plain": [
              "   PD_CD  KY_CD ARREST_BORO AGE_GROUP  PERP_SEX_F  PERP_SEX_M  \\\n",
              "0  759.0  359.0           K        24           0           1   \n",
              "1  101.0  344.0           M        24           0           1   \n",
              "2  905.0  347.0           K        44           0           1   \n",
              "3  782.0  236.0           Q        44           0           1   \n",
              "4  258.0  351.0           Q        24           0           1   \n",
              "\n",
              "   PERP_RACE_AMERICAN INDIAN/ALASKAN NATIVE  \\\n",
              "0                                         0   \n",
              "1                                         0   \n",
              "2                                         0   \n",
              "3                                         0   \n",
              "4                                         0   \n",
              "\n",
              "   PERP_RACE_ASIAN / PACIFIC ISLANDER  PERP_RACE_BLACK  \\\n",
              "0                                   0                1   \n",
              "1                                   0                0   \n",
              "2                                   0                0   \n",
              "3                                   0                0   \n",
              "4                                   0                0   \n",
              "\n",
              "   PERP_RACE_BLACK HISPANIC  PERP_RACE_UNKNOWN  PERP_RACE_WHITE  \\\n",
              "0                         0                  0                0   \n",
              "1                         0                  0                1   \n",
              "2                         0                  0                0   \n",
              "3                         1                  0                0   \n",
              "4                         0                  0                1   \n",
              "\n",
              "   PERP_RACE_WHITE HISPANIC  LAW_CAT_CD_F  LAW_CAT_CD_I  LAW_CAT_CD_M  \\\n",
              "0                         0             0             0             1   \n",
              "1                         0             0             0             1   \n",
              "2                         1             0             0             1   \n",
              "3                         0             0             0             1   \n",
              "4                         0             0             0             1   \n",
              "\n",
              "   LAW_CAT_CD_V  \n",
              "0             0  \n",
              "1             0  \n",
              "2             0  \n",
              "3             0  \n",
              "4             0  "
            ],
            "text/html": [
              "\n",
              "  <div id=\"df-c22e5fb3-08fc-4c84-8636-a543ebce1650\">\n",
              "    <div class=\"colab-df-container\">\n",
              "      <div>\n",
              "<style scoped>\n",
              "    .dataframe tbody tr th:only-of-type {\n",
              "        vertical-align: middle;\n",
              "    }\n",
              "\n",
              "    .dataframe tbody tr th {\n",
              "        vertical-align: top;\n",
              "    }\n",
              "\n",
              "    .dataframe thead th {\n",
              "        text-align: right;\n",
              "    }\n",
              "</style>\n",
              "<table border=\"1\" class=\"dataframe\">\n",
              "  <thead>\n",
              "    <tr style=\"text-align: right;\">\n",
              "      <th></th>\n",
              "      <th>PD_CD</th>\n",
              "      <th>KY_CD</th>\n",
              "      <th>ARREST_BORO</th>\n",
              "      <th>AGE_GROUP</th>\n",
              "      <th>PERP_SEX_F</th>\n",
              "      <th>PERP_SEX_M</th>\n",
              "      <th>PERP_RACE_AMERICAN INDIAN/ALASKAN NATIVE</th>\n",
              "      <th>PERP_RACE_ASIAN / PACIFIC ISLANDER</th>\n",
              "      <th>PERP_RACE_BLACK</th>\n",
              "      <th>PERP_RACE_BLACK HISPANIC</th>\n",
              "      <th>PERP_RACE_UNKNOWN</th>\n",
              "      <th>PERP_RACE_WHITE</th>\n",
              "      <th>PERP_RACE_WHITE HISPANIC</th>\n",
              "      <th>LAW_CAT_CD_F</th>\n",
              "      <th>LAW_CAT_CD_I</th>\n",
              "      <th>LAW_CAT_CD_M</th>\n",
              "      <th>LAW_CAT_CD_V</th>\n",
              "    </tr>\n",
              "  </thead>\n",
              "  <tbody>\n",
              "    <tr>\n",
              "      <th>0</th>\n",
              "      <td>759.0</td>\n",
              "      <td>359.0</td>\n",
              "      <td>K</td>\n",
              "      <td>24</td>\n",
              "      <td>0</td>\n",
              "      <td>1</td>\n",
              "      <td>0</td>\n",
              "      <td>0</td>\n",
              "      <td>1</td>\n",
              "      <td>0</td>\n",
              "      <td>0</td>\n",
              "      <td>0</td>\n",
              "      <td>0</td>\n",
              "      <td>0</td>\n",
              "      <td>0</td>\n",
              "      <td>1</td>\n",
              "      <td>0</td>\n",
              "    </tr>\n",
              "    <tr>\n",
              "      <th>1</th>\n",
              "      <td>101.0</td>\n",
              "      <td>344.0</td>\n",
              "      <td>M</td>\n",
              "      <td>24</td>\n",
              "      <td>0</td>\n",
              "      <td>1</td>\n",
              "      <td>0</td>\n",
              "      <td>0</td>\n",
              "      <td>0</td>\n",
              "      <td>0</td>\n",
              "      <td>0</td>\n",
              "      <td>1</td>\n",
              "      <td>0</td>\n",
              "      <td>0</td>\n",
              "      <td>0</td>\n",
              "      <td>1</td>\n",
              "      <td>0</td>\n",
              "    </tr>\n",
              "    <tr>\n",
              "      <th>2</th>\n",
              "      <td>905.0</td>\n",
              "      <td>347.0</td>\n",
              "      <td>K</td>\n",
              "      <td>44</td>\n",
              "      <td>0</td>\n",
              "      <td>1</td>\n",
              "      <td>0</td>\n",
              "      <td>0</td>\n",
              "      <td>0</td>\n",
              "      <td>0</td>\n",
              "      <td>0</td>\n",
              "      <td>0</td>\n",
              "      <td>1</td>\n",
              "      <td>0</td>\n",
              "      <td>0</td>\n",
              "      <td>1</td>\n",
              "      <td>0</td>\n",
              "    </tr>\n",
              "    <tr>\n",
              "      <th>3</th>\n",
              "      <td>782.0</td>\n",
              "      <td>236.0</td>\n",
              "      <td>Q</td>\n",
              "      <td>44</td>\n",
              "      <td>0</td>\n",
              "      <td>1</td>\n",
              "      <td>0</td>\n",
              "      <td>0</td>\n",
              "      <td>0</td>\n",
              "      <td>1</td>\n",
              "      <td>0</td>\n",
              "      <td>0</td>\n",
              "      <td>0</td>\n",
              "      <td>0</td>\n",
              "      <td>0</td>\n",
              "      <td>1</td>\n",
              "      <td>0</td>\n",
              "    </tr>\n",
              "    <tr>\n",
              "      <th>4</th>\n",
              "      <td>258.0</td>\n",
              "      <td>351.0</td>\n",
              "      <td>Q</td>\n",
              "      <td>24</td>\n",
              "      <td>0</td>\n",
              "      <td>1</td>\n",
              "      <td>0</td>\n",
              "      <td>0</td>\n",
              "      <td>0</td>\n",
              "      <td>0</td>\n",
              "      <td>0</td>\n",
              "      <td>1</td>\n",
              "      <td>0</td>\n",
              "      <td>0</td>\n",
              "      <td>0</td>\n",
              "      <td>1</td>\n",
              "      <td>0</td>\n",
              "    </tr>\n",
              "  </tbody>\n",
              "</table>\n",
              "</div>\n",
              "      <button class=\"colab-df-convert\" onclick=\"convertToInteractive('df-c22e5fb3-08fc-4c84-8636-a543ebce1650')\"\n",
              "              title=\"Convert this dataframe to an interactive table.\"\n",
              "              style=\"display:none;\">\n",
              "        \n",
              "  <svg xmlns=\"http://www.w3.org/2000/svg\" height=\"24px\"viewBox=\"0 0 24 24\"\n",
              "       width=\"24px\">\n",
              "    <path d=\"M0 0h24v24H0V0z\" fill=\"none\"/>\n",
              "    <path d=\"M18.56 5.44l.94 2.06.94-2.06 2.06-.94-2.06-.94-.94-2.06-.94 2.06-2.06.94zm-11 1L8.5 8.5l.94-2.06 2.06-.94-2.06-.94L8.5 2.5l-.94 2.06-2.06.94zm10 10l.94 2.06.94-2.06 2.06-.94-2.06-.94-.94-2.06-.94 2.06-2.06.94z\"/><path d=\"M17.41 7.96l-1.37-1.37c-.4-.4-.92-.59-1.43-.59-.52 0-1.04.2-1.43.59L10.3 9.45l-7.72 7.72c-.78.78-.78 2.05 0 2.83L4 21.41c.39.39.9.59 1.41.59.51 0 1.02-.2 1.41-.59l7.78-7.78 2.81-2.81c.8-.78.8-2.07 0-2.86zM5.41 20L4 18.59l7.72-7.72 1.47 1.35L5.41 20z\"/>\n",
              "  </svg>\n",
              "      </button>\n",
              "      \n",
              "  <style>\n",
              "    .colab-df-container {\n",
              "      display:flex;\n",
              "      flex-wrap:wrap;\n",
              "      gap: 12px;\n",
              "    }\n",
              "\n",
              "    .colab-df-convert {\n",
              "      background-color: #E8F0FE;\n",
              "      border: none;\n",
              "      border-radius: 50%;\n",
              "      cursor: pointer;\n",
              "      display: none;\n",
              "      fill: #1967D2;\n",
              "      height: 32px;\n",
              "      padding: 0 0 0 0;\n",
              "      width: 32px;\n",
              "    }\n",
              "\n",
              "    .colab-df-convert:hover {\n",
              "      background-color: #E2EBFA;\n",
              "      box-shadow: 0px 1px 2px rgba(60, 64, 67, 0.3), 0px 1px 3px 1px rgba(60, 64, 67, 0.15);\n",
              "      fill: #174EA6;\n",
              "    }\n",
              "\n",
              "    [theme=dark] .colab-df-convert {\n",
              "      background-color: #3B4455;\n",
              "      fill: #D2E3FC;\n",
              "    }\n",
              "\n",
              "    [theme=dark] .colab-df-convert:hover {\n",
              "      background-color: #434B5C;\n",
              "      box-shadow: 0px 1px 3px 1px rgba(0, 0, 0, 0.15);\n",
              "      filter: drop-shadow(0px 1px 2px rgba(0, 0, 0, 0.3));\n",
              "      fill: #FFFFFF;\n",
              "    }\n",
              "  </style>\n",
              "\n",
              "      <script>\n",
              "        const buttonEl =\n",
              "          document.querySelector('#df-c22e5fb3-08fc-4c84-8636-a543ebce1650 button.colab-df-convert');\n",
              "        buttonEl.style.display =\n",
              "          google.colab.kernel.accessAllowed ? 'block' : 'none';\n",
              "\n",
              "        async function convertToInteractive(key) {\n",
              "          const element = document.querySelector('#df-c22e5fb3-08fc-4c84-8636-a543ebce1650');\n",
              "          const dataTable =\n",
              "            await google.colab.kernel.invokeFunction('convertToInteractive',\n",
              "                                                     [key], {});\n",
              "          if (!dataTable) return;\n",
              "\n",
              "          const docLinkHtml = 'Like what you see? Visit the ' +\n",
              "            '<a target=\"_blank\" href=https://colab.research.google.com/notebooks/data_table.ipynb>data table notebook</a>'\n",
              "            + ' to learn more about interactive tables.';\n",
              "          element.innerHTML = '';\n",
              "          dataTable['output_type'] = 'display_data';\n",
              "          await google.colab.output.renderOutput(dataTable, element);\n",
              "          const docLink = document.createElement('div');\n",
              "          docLink.innerHTML = docLinkHtml;\n",
              "          element.appendChild(docLink);\n",
              "        }\n",
              "      </script>\n",
              "    </div>\n",
              "  </div>\n",
              "  "
            ]
          },
          "metadata": {},
          "execution_count": 8
        }
      ]
    },
    {
      "cell_type": "code",
      "source": [
        "# Define the features set.\n",
        "X = arrest_df_encoded.copy()\n",
        "X = X.drop(\"ARREST_BORO\", axis=1)\n",
        "\n",
        "# Define the target set.\n",
        "y = arrest_df_encoded[\"ARREST_BORO\"].values\n",
        "\n",
        "X_train, X_test, y_train, y_test = train_test_split( X,y, random_state=42)"
      ],
      "metadata": {
        "id": "XqmxSJeyhV6b"
      },
      "execution_count": 9,
      "outputs": []
    },
    {
      "cell_type": "code",
      "source": [
        "print(X_train.shape)\n",
        "print(y_train.shape)"
      ],
      "metadata": {
        "colab": {
          "base_uri": "https://localhost:8080/"
        },
        "id": "mr4bKOT3OwON",
        "outputId": "d3034a28-0fb8-46dc-801c-eb36c9a53edb"
      },
      "execution_count": 10,
      "outputs": [
        {
          "output_type": "stream",
          "name": "stdout",
          "text": [
            "(2141355, 16)\n",
            "(2141355,)\n"
          ]
        }
      ]
    },
    {
      "cell_type": "code",
      "source": [
        "from sklearn.ensemble import RandomForestClassifier"
      ],
      "metadata": {
        "id": "9B_MObKdOvzl"
      },
      "execution_count": 11,
      "outputs": []
    },
    {
      "cell_type": "code",
      "source": [
        "model = RandomForestClassifier(n_estimators=200)\n",
        "model.fit(X_train, y_train )"
      ],
      "metadata": {
        "colab": {
          "base_uri": "https://localhost:8080/",
          "height": 75
        },
        "id": "F6GuwIx1RA2-",
        "outputId": "95d0f24c-71c1-47b5-8d4b-a181e3e8fdd8"
      },
      "execution_count": 12,
      "outputs": [
        {
          "output_type": "execute_result",
          "data": {
            "text/plain": [
              "RandomForestClassifier(n_estimators=200)"
            ],
            "text/html": [
              "<style>#sk-container-id-1 {color: black;background-color: white;}#sk-container-id-1 pre{padding: 0;}#sk-container-id-1 div.sk-toggleable {background-color: white;}#sk-container-id-1 label.sk-toggleable__label {cursor: pointer;display: block;width: 100%;margin-bottom: 0;padding: 0.3em;box-sizing: border-box;text-align: center;}#sk-container-id-1 label.sk-toggleable__label-arrow:before {content: \"▸\";float: left;margin-right: 0.25em;color: #696969;}#sk-container-id-1 label.sk-toggleable__label-arrow:hover:before {color: black;}#sk-container-id-1 div.sk-estimator:hover label.sk-toggleable__label-arrow:before {color: black;}#sk-container-id-1 div.sk-toggleable__content {max-height: 0;max-width: 0;overflow: hidden;text-align: left;background-color: #f0f8ff;}#sk-container-id-1 div.sk-toggleable__content pre {margin: 0.2em;color: black;border-radius: 0.25em;background-color: #f0f8ff;}#sk-container-id-1 input.sk-toggleable__control:checked~div.sk-toggleable__content {max-height: 200px;max-width: 100%;overflow: auto;}#sk-container-id-1 input.sk-toggleable__control:checked~label.sk-toggleable__label-arrow:before {content: \"▾\";}#sk-container-id-1 div.sk-estimator input.sk-toggleable__control:checked~label.sk-toggleable__label {background-color: #d4ebff;}#sk-container-id-1 div.sk-label input.sk-toggleable__control:checked~label.sk-toggleable__label {background-color: #d4ebff;}#sk-container-id-1 input.sk-hidden--visually {border: 0;clip: rect(1px 1px 1px 1px);clip: rect(1px, 1px, 1px, 1px);height: 1px;margin: -1px;overflow: hidden;padding: 0;position: absolute;width: 1px;}#sk-container-id-1 div.sk-estimator {font-family: monospace;background-color: #f0f8ff;border: 1px dotted black;border-radius: 0.25em;box-sizing: border-box;margin-bottom: 0.5em;}#sk-container-id-1 div.sk-estimator:hover {background-color: #d4ebff;}#sk-container-id-1 div.sk-parallel-item::after {content: \"\";width: 100%;border-bottom: 1px solid gray;flex-grow: 1;}#sk-container-id-1 div.sk-label:hover label.sk-toggleable__label {background-color: #d4ebff;}#sk-container-id-1 div.sk-serial::before {content: \"\";position: absolute;border-left: 1px solid gray;box-sizing: border-box;top: 0;bottom: 0;left: 50%;z-index: 0;}#sk-container-id-1 div.sk-serial {display: flex;flex-direction: column;align-items: center;background-color: white;padding-right: 0.2em;padding-left: 0.2em;position: relative;}#sk-container-id-1 div.sk-item {position: relative;z-index: 1;}#sk-container-id-1 div.sk-parallel {display: flex;align-items: stretch;justify-content: center;background-color: white;position: relative;}#sk-container-id-1 div.sk-item::before, #sk-container-id-1 div.sk-parallel-item::before {content: \"\";position: absolute;border-left: 1px solid gray;box-sizing: border-box;top: 0;bottom: 0;left: 50%;z-index: -1;}#sk-container-id-1 div.sk-parallel-item {display: flex;flex-direction: column;z-index: 1;position: relative;background-color: white;}#sk-container-id-1 div.sk-parallel-item:first-child::after {align-self: flex-end;width: 50%;}#sk-container-id-1 div.sk-parallel-item:last-child::after {align-self: flex-start;width: 50%;}#sk-container-id-1 div.sk-parallel-item:only-child::after {width: 0;}#sk-container-id-1 div.sk-dashed-wrapped {border: 1px dashed gray;margin: 0 0.4em 0.5em 0.4em;box-sizing: border-box;padding-bottom: 0.4em;background-color: white;}#sk-container-id-1 div.sk-label label {font-family: monospace;font-weight: bold;display: inline-block;line-height: 1.2em;}#sk-container-id-1 div.sk-label-container {text-align: center;}#sk-container-id-1 div.sk-container {/* jupyter's `normalize.less` sets `[hidden] { display: none; }` but bootstrap.min.css set `[hidden] { display: none !important; }` so we also need the `!important` here to be able to override the default hidden behavior on the sphinx rendered scikit-learn.org. See: https://github.com/scikit-learn/scikit-learn/issues/21755 */display: inline-block !important;position: relative;}#sk-container-id-1 div.sk-text-repr-fallback {display: none;}</style><div id=\"sk-container-id-1\" class=\"sk-top-container\"><div class=\"sk-text-repr-fallback\"><pre>RandomForestClassifier(n_estimators=200)</pre><b>In a Jupyter environment, please rerun this cell to show the HTML representation or trust the notebook. <br />On GitHub, the HTML representation is unable to render, please try loading this page with nbviewer.org.</b></div><div class=\"sk-container\" hidden><div class=\"sk-item\"><div class=\"sk-estimator sk-toggleable\"><input class=\"sk-toggleable__control sk-hidden--visually\" id=\"sk-estimator-id-1\" type=\"checkbox\" checked><label for=\"sk-estimator-id-1\" class=\"sk-toggleable__label sk-toggleable__label-arrow\">RandomForestClassifier</label><div class=\"sk-toggleable__content\"><pre>RandomForestClassifier(n_estimators=200)</pre></div></div></div></div></div>"
            ]
          },
          "metadata": {},
          "execution_count": 12
        }
      ]
    },
    {
      "cell_type": "code",
      "source": [
        "from sklearn.metrics import confusion_matrix"
      ],
      "metadata": {
        "id": "sCvlUDKXSLtQ"
      },
      "execution_count": 13,
      "outputs": []
    },
    {
      "cell_type": "code",
      "source": [
        "y_preds = model.predict(X_test)"
      ],
      "metadata": {
        "id": "TOBuAOP2Sba6"
      },
      "execution_count": 14,
      "outputs": []
    },
    {
      "cell_type": "code",
      "source": [
        "print(y_preds)"
      ],
      "metadata": {
        "colab": {
          "base_uri": "https://localhost:8080/"
        },
        "id": "1w_wKrwAU33a",
        "outputId": "d2e61e46-c9d2-47d4-d285-013d62ed07ab"
      },
      "execution_count": 15,
      "outputs": [
        {
          "output_type": "stream",
          "name": "stdout",
          "text": [
            "['K' 'K' 'K' ... 'Q' 'Q' 'B']\n"
          ]
        }
      ]
    },
    {
      "cell_type": "code",
      "source": [
        "# Confusion Matrix\n",
        "confusion_matrix(y_test, y_preds)"
      ],
      "metadata": {
        "colab": {
          "base_uri": "https://localhost:8080/"
        },
        "id": "JU3oMUa6VA8F",
        "outputId": "95e240a7-526f-44c1-e7f2-1917877f68d5"
      },
      "execution_count": 16,
      "outputs": [
        {
          "output_type": "execute_result",
          "data": {
            "text/plain": [
              "array([[ 62781,  53823,  33833,   8436,    108],\n",
              "       [ 29794, 107533,  47404,  13495,    247],\n",
              "       [ 37580,  58564,  82416,  11805,    214],\n",
              "       [ 27760,  51605,  29909,  29847,    253],\n",
              "       [  4226,  13109,   6432,   2297,    315]])"
            ]
          },
          "metadata": {},
          "execution_count": 16
        }
      ]
    },
    {
      "cell_type": "code",
      "source": [
        "# Determine the shape of our training and testing sets.\n",
        "print(X_train.shape)\n",
        "print(X_test.shape)\n",
        "print(y_train.shape)\n",
        "print(y_test.shape)"
      ],
      "metadata": {
        "colab": {
          "base_uri": "https://localhost:8080/"
        },
        "id": "ph9P0D4OUG9h",
        "outputId": "1779d9f4-ea3a-41b3-a57e-657d05f8c9a1"
      },
      "execution_count": 17,
      "outputs": [
        {
          "output_type": "stream",
          "name": "stdout",
          "text": [
            "(2141355, 16)\n",
            "(713786, 16)\n",
            "(2141355,)\n",
            "(713786,)\n"
          ]
        }
      ]
    },
    {
      "cell_type": "code",
      "source": [
        "# Splitting into Train and Test sets into an 80/20 split.\n",
        "X_train, X_test, y_train, y_test = train_test_split(X, y, random_state=78, train_size=0.80)"
      ],
      "metadata": {
        "id": "IniYHFovXGPj"
      },
      "execution_count": 18,
      "outputs": []
    },
    {
      "cell_type": "code",
      "source": [
        "# Determine the shape of our training and testing sets.\n",
        "print(X_train.shape)\n",
        "print(X_test.shape)\n",
        "print(y_train.shape)\n",
        "print(y_test.shape)"
      ],
      "metadata": {
        "colab": {
          "base_uri": "https://localhost:8080/"
        },
        "id": "Q13TLP96ZI5u",
        "outputId": "d1a3b432-db98-46d1-8bab-eebba711136c"
      },
      "execution_count": 19,
      "outputs": [
        {
          "output_type": "stream",
          "name": "stdout",
          "text": [
            "(2284112, 16)\n",
            "(571029, 16)\n",
            "(2284112,)\n",
            "(571029,)\n"
          ]
        }
      ]
    },
    {
      "cell_type": "code",
      "source": [],
      "metadata": {
        "id": "b4kbdUBIZUnd"
      },
      "execution_count": 19,
      "outputs": []
    }
  ],
  "metadata": {
    "colab": {
      "provenance": []
    },
    "kernelspec": {
      "display_name": "Python 3",
      "name": "python3"
    },
    "language_info": {
      "name": "python"
    }
  },
  "nbformat": 4,
  "nbformat_minor": 0
}